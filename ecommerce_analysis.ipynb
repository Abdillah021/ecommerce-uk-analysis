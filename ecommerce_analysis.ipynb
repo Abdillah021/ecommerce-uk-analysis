{
  "nbformat": 4,
  "nbformat_minor": 0,
  "metadata": {
    "colab": {
      "provenance": [],
      "mount_file_id": "1MifJsCtxSLP6YLn4n6wuF3jsrfZa2r7V",
      "authorship_tag": "ABX9TyNHTQ6Yu2lnSJz78icaHPoA",
      "include_colab_link": true
    },
    "kernelspec": {
      "name": "python3",
      "display_name": "Python 3"
    },
    "language_info": {
      "name": "python"
    }
  },
  "cells": [
    {
      "cell_type": "markdown",
      "metadata": {
        "id": "view-in-github",
        "colab_type": "text"
      },
      "source": [
        "<a href=\"https://colab.research.google.com/github/Abdillah021/ecommerce-uk-analysis/blob/main/ecommerce_analysis.ipynb\" target=\"_parent\"><img src=\"https://colab.research.google.com/assets/colab-badge.svg\" alt=\"Open In Colab\"/></a>"
      ]
    },
    {
      "cell_type": "code",
      "execution_count": null,
      "metadata": {
        "id": "DJMj4Tah5Wm7",
        "colab": {
          "base_uri": "https://localhost:8080/"
        },
        "outputId": "a53a2319-845e-4fe9-f0b4-6210f8ead6b6"
      },
      "outputs": [
        {
          "output_type": "execute_result",
          "data": {
            "text/plain": [
              "((541909, 8),\n",
              "   InvoiceNo StockCode                          Description  Quantity  \\\n",
              " 0    536365    85123A   WHITE HANGING HEART T-LIGHT HOLDER         6   \n",
              " 1    536365     71053                  WHITE METAL LANTERN         6   \n",
              " 2    536365    84406B       CREAM CUPID HEARTS COAT HANGER         8   \n",
              " 3    536365    84029G  KNITTED UNION FLAG HOT WATER BOTTLE         6   \n",
              " 4    536365    84029E       RED WOOLLY HOTTIE WHITE HEART.         6   \n",
              " \n",
              "       InvoiceDate  UnitPrice  CustomerID         Country  \n",
              " 0  12/1/2010 8:26       2.55     17850.0  United Kingdom  \n",
              " 1  12/1/2010 8:26       3.39     17850.0  United Kingdom  \n",
              " 2  12/1/2010 8:26       2.75     17850.0  United Kingdom  \n",
              " 3  12/1/2010 8:26       3.39     17850.0  United Kingdom  \n",
              " 4  12/1/2010 8:26       3.39     17850.0  United Kingdom  )"
            ]
          },
          "metadata": {},
          "execution_count": 3
        }
      ],
      "source": [
        "import pandas as pd\n",
        "\n",
        "url = \"/content/drive/MyDrive/porto_abdillah/dataset/data.csv\"\n",
        "df_full = pd.read_csv(url, encoding='latin1')\n",
        "\n",
        "df_full.shape, df_full.head()"
      ]
    },
    {
      "cell_type": "code",
      "source": [
        "df = df_full.sample(n=10000, random_state=42)  # 10.000 baris acak\n"
      ],
      "metadata": {
        "id": "wIEmX0Tb6htT"
      },
      "execution_count": null,
      "outputs": []
    },
    {
      "cell_type": "code",
      "source": [
        "# Cek ukuran & info dataset\n",
        "df.shape\n",
        "df.info()\n",
        "\n",
        "# Cek data teratas\n",
        "df.head()"
      ],
      "metadata": {
        "colab": {
          "base_uri": "https://localhost:8080/",
          "height": 695
        },
        "id": "r5R0Xyd3CmgU",
        "outputId": "5eba2f7a-2a55-4746-ea6d-4a73e7907890"
      },
      "execution_count": null,
      "outputs": [
        {
          "output_type": "stream",
          "name": "stdout",
          "text": [
            "<class 'pandas.core.frame.DataFrame'>\n",
            "Index: 10000 entries, 209268 to 336297\n",
            "Data columns (total 8 columns):\n",
            " #   Column       Non-Null Count  Dtype  \n",
            "---  ------       --------------  -----  \n",
            " 0   InvoiceNo    10000 non-null  object \n",
            " 1   StockCode    10000 non-null  object \n",
            " 2   Description  9969 non-null   object \n",
            " 3   Quantity     10000 non-null  int64  \n",
            " 4   InvoiceDate  10000 non-null  object \n",
            " 5   UnitPrice    10000 non-null  float64\n",
            " 6   CustomerID   7484 non-null   float64\n",
            " 7   Country      10000 non-null  object \n",
            "dtypes: float64(2), int64(1), object(5)\n",
            "memory usage: 703.1+ KB\n"
          ]
        },
        {
          "output_type": "execute_result",
          "data": {
            "text/plain": [
              "       InvoiceNo StockCode                       Description  Quantity  \\\n",
              "209268    555200     71459    HANGING JAM JAR T-LIGHT HOLDER        24   \n",
              "207108    554974     21128                GOLD FISHING GNOME         4   \n",
              "167085    550972     21086       SET/6 RED SPOTTY PAPER CUPS         4   \n",
              "471836    576652     22812  PACK 3 BOXES CHRISTMAS PANETTONE         3   \n",
              "115865    546157     22180                    RETROSPOT LAMP         2   \n",
              "\n",
              "             InvoiceDate  UnitPrice  CustomerID         Country  \n",
              "209268    6/1/2011 12:05       0.85     17315.0  United Kingdom  \n",
              "207108   5/27/2011 17:14       6.95     14031.0  United Kingdom  \n",
              "167085   4/21/2011 17:05       0.65     14031.0  United Kingdom  \n",
              "471836  11/16/2011 10:39       1.95     17198.0  United Kingdom  \n",
              "115865    3/10/2011 8:40       9.95     13502.0  United Kingdom  "
            ],
            "text/html": [
              "\n",
              "  <div id=\"df-1ded9ec8-8e10-4e57-a749-0e9f3238604c\" class=\"colab-df-container\">\n",
              "    <div>\n",
              "<style scoped>\n",
              "    .dataframe tbody tr th:only-of-type {\n",
              "        vertical-align: middle;\n",
              "    }\n",
              "\n",
              "    .dataframe tbody tr th {\n",
              "        vertical-align: top;\n",
              "    }\n",
              "\n",
              "    .dataframe thead th {\n",
              "        text-align: right;\n",
              "    }\n",
              "</style>\n",
              "<table border=\"1\" class=\"dataframe\">\n",
              "  <thead>\n",
              "    <tr style=\"text-align: right;\">\n",
              "      <th></th>\n",
              "      <th>InvoiceNo</th>\n",
              "      <th>StockCode</th>\n",
              "      <th>Description</th>\n",
              "      <th>Quantity</th>\n",
              "      <th>InvoiceDate</th>\n",
              "      <th>UnitPrice</th>\n",
              "      <th>CustomerID</th>\n",
              "      <th>Country</th>\n",
              "    </tr>\n",
              "  </thead>\n",
              "  <tbody>\n",
              "    <tr>\n",
              "      <th>209268</th>\n",
              "      <td>555200</td>\n",
              "      <td>71459</td>\n",
              "      <td>HANGING JAM JAR T-LIGHT HOLDER</td>\n",
              "      <td>24</td>\n",
              "      <td>6/1/2011 12:05</td>\n",
              "      <td>0.85</td>\n",
              "      <td>17315.0</td>\n",
              "      <td>United Kingdom</td>\n",
              "    </tr>\n",
              "    <tr>\n",
              "      <th>207108</th>\n",
              "      <td>554974</td>\n",
              "      <td>21128</td>\n",
              "      <td>GOLD FISHING GNOME</td>\n",
              "      <td>4</td>\n",
              "      <td>5/27/2011 17:14</td>\n",
              "      <td>6.95</td>\n",
              "      <td>14031.0</td>\n",
              "      <td>United Kingdom</td>\n",
              "    </tr>\n",
              "    <tr>\n",
              "      <th>167085</th>\n",
              "      <td>550972</td>\n",
              "      <td>21086</td>\n",
              "      <td>SET/6 RED SPOTTY PAPER CUPS</td>\n",
              "      <td>4</td>\n",
              "      <td>4/21/2011 17:05</td>\n",
              "      <td>0.65</td>\n",
              "      <td>14031.0</td>\n",
              "      <td>United Kingdom</td>\n",
              "    </tr>\n",
              "    <tr>\n",
              "      <th>471836</th>\n",
              "      <td>576652</td>\n",
              "      <td>22812</td>\n",
              "      <td>PACK 3 BOXES CHRISTMAS PANETTONE</td>\n",
              "      <td>3</td>\n",
              "      <td>11/16/2011 10:39</td>\n",
              "      <td>1.95</td>\n",
              "      <td>17198.0</td>\n",
              "      <td>United Kingdom</td>\n",
              "    </tr>\n",
              "    <tr>\n",
              "      <th>115865</th>\n",
              "      <td>546157</td>\n",
              "      <td>22180</td>\n",
              "      <td>RETROSPOT LAMP</td>\n",
              "      <td>2</td>\n",
              "      <td>3/10/2011 8:40</td>\n",
              "      <td>9.95</td>\n",
              "      <td>13502.0</td>\n",
              "      <td>United Kingdom</td>\n",
              "    </tr>\n",
              "  </tbody>\n",
              "</table>\n",
              "</div>\n",
              "    <div class=\"colab-df-buttons\">\n",
              "\n",
              "  <div class=\"colab-df-container\">\n",
              "    <button class=\"colab-df-convert\" onclick=\"convertToInteractive('df-1ded9ec8-8e10-4e57-a749-0e9f3238604c')\"\n",
              "            title=\"Convert this dataframe to an interactive table.\"\n",
              "            style=\"display:none;\">\n",
              "\n",
              "  <svg xmlns=\"http://www.w3.org/2000/svg\" height=\"24px\" viewBox=\"0 -960 960 960\">\n",
              "    <path d=\"M120-120v-720h720v720H120Zm60-500h600v-160H180v160Zm220 220h160v-160H400v160Zm0 220h160v-160H400v160ZM180-400h160v-160H180v160Zm440 0h160v-160H620v160ZM180-180h160v-160H180v160Zm440 0h160v-160H620v160Z\"/>\n",
              "  </svg>\n",
              "    </button>\n",
              "\n",
              "  <style>\n",
              "    .colab-df-container {\n",
              "      display:flex;\n",
              "      gap: 12px;\n",
              "    }\n",
              "\n",
              "    .colab-df-convert {\n",
              "      background-color: #E8F0FE;\n",
              "      border: none;\n",
              "      border-radius: 50%;\n",
              "      cursor: pointer;\n",
              "      display: none;\n",
              "      fill: #1967D2;\n",
              "      height: 32px;\n",
              "      padding: 0 0 0 0;\n",
              "      width: 32px;\n",
              "    }\n",
              "\n",
              "    .colab-df-convert:hover {\n",
              "      background-color: #E2EBFA;\n",
              "      box-shadow: 0px 1px 2px rgba(60, 64, 67, 0.3), 0px 1px 3px 1px rgba(60, 64, 67, 0.15);\n",
              "      fill: #174EA6;\n",
              "    }\n",
              "\n",
              "    .colab-df-buttons div {\n",
              "      margin-bottom: 4px;\n",
              "    }\n",
              "\n",
              "    [theme=dark] .colab-df-convert {\n",
              "      background-color: #3B4455;\n",
              "      fill: #D2E3FC;\n",
              "    }\n",
              "\n",
              "    [theme=dark] .colab-df-convert:hover {\n",
              "      background-color: #434B5C;\n",
              "      box-shadow: 0px 1px 3px 1px rgba(0, 0, 0, 0.15);\n",
              "      filter: drop-shadow(0px 1px 2px rgba(0, 0, 0, 0.3));\n",
              "      fill: #FFFFFF;\n",
              "    }\n",
              "  </style>\n",
              "\n",
              "    <script>\n",
              "      const buttonEl =\n",
              "        document.querySelector('#df-1ded9ec8-8e10-4e57-a749-0e9f3238604c button.colab-df-convert');\n",
              "      buttonEl.style.display =\n",
              "        google.colab.kernel.accessAllowed ? 'block' : 'none';\n",
              "\n",
              "      async function convertToInteractive(key) {\n",
              "        const element = document.querySelector('#df-1ded9ec8-8e10-4e57-a749-0e9f3238604c');\n",
              "        const dataTable =\n",
              "          await google.colab.kernel.invokeFunction('convertToInteractive',\n",
              "                                                    [key], {});\n",
              "        if (!dataTable) return;\n",
              "\n",
              "        const docLinkHtml = 'Like what you see? Visit the ' +\n",
              "          '<a target=\"_blank\" href=https://colab.research.google.com/notebooks/data_table.ipynb>data table notebook</a>'\n",
              "          + ' to learn more about interactive tables.';\n",
              "        element.innerHTML = '';\n",
              "        dataTable['output_type'] = 'display_data';\n",
              "        await google.colab.output.renderOutput(dataTable, element);\n",
              "        const docLink = document.createElement('div');\n",
              "        docLink.innerHTML = docLinkHtml;\n",
              "        element.appendChild(docLink);\n",
              "      }\n",
              "    </script>\n",
              "  </div>\n",
              "\n",
              "\n",
              "    <div id=\"df-ed2e119d-cfb0-4884-bccd-db8c0a2aa44d\">\n",
              "      <button class=\"colab-df-quickchart\" onclick=\"quickchart('df-ed2e119d-cfb0-4884-bccd-db8c0a2aa44d')\"\n",
              "                title=\"Suggest charts\"\n",
              "                style=\"display:none;\">\n",
              "\n",
              "<svg xmlns=\"http://www.w3.org/2000/svg\" height=\"24px\"viewBox=\"0 0 24 24\"\n",
              "     width=\"24px\">\n",
              "    <g>\n",
              "        <path d=\"M19 3H5c-1.1 0-2 .9-2 2v14c0 1.1.9 2 2 2h14c1.1 0 2-.9 2-2V5c0-1.1-.9-2-2-2zM9 17H7v-7h2v7zm4 0h-2V7h2v10zm4 0h-2v-4h2v4z\"/>\n",
              "    </g>\n",
              "</svg>\n",
              "      </button>\n",
              "\n",
              "<style>\n",
              "  .colab-df-quickchart {\n",
              "      --bg-color: #E8F0FE;\n",
              "      --fill-color: #1967D2;\n",
              "      --hover-bg-color: #E2EBFA;\n",
              "      --hover-fill-color: #174EA6;\n",
              "      --disabled-fill-color: #AAA;\n",
              "      --disabled-bg-color: #DDD;\n",
              "  }\n",
              "\n",
              "  [theme=dark] .colab-df-quickchart {\n",
              "      --bg-color: #3B4455;\n",
              "      --fill-color: #D2E3FC;\n",
              "      --hover-bg-color: #434B5C;\n",
              "      --hover-fill-color: #FFFFFF;\n",
              "      --disabled-bg-color: #3B4455;\n",
              "      --disabled-fill-color: #666;\n",
              "  }\n",
              "\n",
              "  .colab-df-quickchart {\n",
              "    background-color: var(--bg-color);\n",
              "    border: none;\n",
              "    border-radius: 50%;\n",
              "    cursor: pointer;\n",
              "    display: none;\n",
              "    fill: var(--fill-color);\n",
              "    height: 32px;\n",
              "    padding: 0;\n",
              "    width: 32px;\n",
              "  }\n",
              "\n",
              "  .colab-df-quickchart:hover {\n",
              "    background-color: var(--hover-bg-color);\n",
              "    box-shadow: 0 1px 2px rgba(60, 64, 67, 0.3), 0 1px 3px 1px rgba(60, 64, 67, 0.15);\n",
              "    fill: var(--button-hover-fill-color);\n",
              "  }\n",
              "\n",
              "  .colab-df-quickchart-complete:disabled,\n",
              "  .colab-df-quickchart-complete:disabled:hover {\n",
              "    background-color: var(--disabled-bg-color);\n",
              "    fill: var(--disabled-fill-color);\n",
              "    box-shadow: none;\n",
              "  }\n",
              "\n",
              "  .colab-df-spinner {\n",
              "    border: 2px solid var(--fill-color);\n",
              "    border-color: transparent;\n",
              "    border-bottom-color: var(--fill-color);\n",
              "    animation:\n",
              "      spin 1s steps(1) infinite;\n",
              "  }\n",
              "\n",
              "  @keyframes spin {\n",
              "    0% {\n",
              "      border-color: transparent;\n",
              "      border-bottom-color: var(--fill-color);\n",
              "      border-left-color: var(--fill-color);\n",
              "    }\n",
              "    20% {\n",
              "      border-color: transparent;\n",
              "      border-left-color: var(--fill-color);\n",
              "      border-top-color: var(--fill-color);\n",
              "    }\n",
              "    30% {\n",
              "      border-color: transparent;\n",
              "      border-left-color: var(--fill-color);\n",
              "      border-top-color: var(--fill-color);\n",
              "      border-right-color: var(--fill-color);\n",
              "    }\n",
              "    40% {\n",
              "      border-color: transparent;\n",
              "      border-right-color: var(--fill-color);\n",
              "      border-top-color: var(--fill-color);\n",
              "    }\n",
              "    60% {\n",
              "      border-color: transparent;\n",
              "      border-right-color: var(--fill-color);\n",
              "    }\n",
              "    80% {\n",
              "      border-color: transparent;\n",
              "      border-right-color: var(--fill-color);\n",
              "      border-bottom-color: var(--fill-color);\n",
              "    }\n",
              "    90% {\n",
              "      border-color: transparent;\n",
              "      border-bottom-color: var(--fill-color);\n",
              "    }\n",
              "  }\n",
              "</style>\n",
              "\n",
              "      <script>\n",
              "        async function quickchart(key) {\n",
              "          const quickchartButtonEl =\n",
              "            document.querySelector('#' + key + ' button');\n",
              "          quickchartButtonEl.disabled = true;  // To prevent multiple clicks.\n",
              "          quickchartButtonEl.classList.add('colab-df-spinner');\n",
              "          try {\n",
              "            const charts = await google.colab.kernel.invokeFunction(\n",
              "                'suggestCharts', [key], {});\n",
              "          } catch (error) {\n",
              "            console.error('Error during call to suggestCharts:', error);\n",
              "          }\n",
              "          quickchartButtonEl.classList.remove('colab-df-spinner');\n",
              "          quickchartButtonEl.classList.add('colab-df-quickchart-complete');\n",
              "        }\n",
              "        (() => {\n",
              "          let quickchartButtonEl =\n",
              "            document.querySelector('#df-ed2e119d-cfb0-4884-bccd-db8c0a2aa44d button');\n",
              "          quickchartButtonEl.style.display =\n",
              "            google.colab.kernel.accessAllowed ? 'block' : 'none';\n",
              "        })();\n",
              "      </script>\n",
              "    </div>\n",
              "\n",
              "    </div>\n",
              "  </div>\n"
            ],
            "application/vnd.google.colaboratory.intrinsic+json": {
              "type": "dataframe",
              "variable_name": "df",
              "repr_error": "0"
            }
          },
          "metadata": {},
          "execution_count": 5
        }
      ]
    },
    {
      "cell_type": "code",
      "source": [
        "# Missing value\n",
        "df.isnull().sum()\n",
        "\n",
        "# Duplikat\n",
        "df.duplicated().sum()"
      ],
      "metadata": {
        "colab": {
          "base_uri": "https://localhost:8080/"
        },
        "id": "LsQq3XAXCr_l",
        "outputId": "fddb3b80-0215-4c96-c877-45e998e149f6"
      },
      "execution_count": null,
      "outputs": [
        {
          "output_type": "execute_result",
          "data": {
            "text/plain": [
              "np.int64(1)"
            ]
          },
          "metadata": {},
          "execution_count": 6
        }
      ]
    },
    {
      "cell_type": "code",
      "source": [
        "# Hapus baris tanpa CustomerID\n",
        "df = df.dropna(subset=['CustomerID'])\n",
        "\n",
        "# Pastikan quantity & harga positif\n",
        "df = df[(df['Quantity'] > 0) & (df['UnitPrice'] > 0)]\n",
        "\n",
        "# Buat kolom TotalPrice\n",
        "df['TotalPrice'] = df['Quantity'] * df['UnitPrice']\n",
        "\n",
        "# Konversi InvoiceDate ke datetime\n",
        "df['InvoiceDate'] = pd.to_datetime(df['InvoiceDate'])\n"
      ],
      "metadata": {
        "id": "I8NwSKWSDFL9"
      },
      "execution_count": null,
      "outputs": []
    },
    {
      "cell_type": "code",
      "source": [
        "df.info()"
      ],
      "metadata": {
        "colab": {
          "base_uri": "https://localhost:8080/"
        },
        "id": "KbYUe-gWDJpt",
        "outputId": "ea6e7258-5c99-4797-bfb4-9f8b09792664"
      },
      "execution_count": null,
      "outputs": [
        {
          "output_type": "stream",
          "name": "stdout",
          "text": [
            "<class 'pandas.core.frame.DataFrame'>\n",
            "Index: 7323 entries, 209268 to 336297\n",
            "Data columns (total 9 columns):\n",
            " #   Column       Non-Null Count  Dtype         \n",
            "---  ------       --------------  -----         \n",
            " 0   InvoiceNo    7323 non-null   object        \n",
            " 1   StockCode    7323 non-null   object        \n",
            " 2   Description  7323 non-null   object        \n",
            " 3   Quantity     7323 non-null   int64         \n",
            " 4   InvoiceDate  7323 non-null   datetime64[ns]\n",
            " 5   UnitPrice    7323 non-null   float64       \n",
            " 6   CustomerID   7323 non-null   float64       \n",
            " 7   Country      7323 non-null   object        \n",
            " 8   TotalPrice   7323 non-null   float64       \n",
            "dtypes: datetime64[ns](1), float64(3), int64(1), object(4)\n",
            "memory usage: 572.1+ KB\n"
          ]
        }
      ]
    },
    {
      "cell_type": "code",
      "source": [
        "df['Country'].value_counts().head(10)"
      ],
      "metadata": {
        "colab": {
          "base_uri": "https://localhost:8080/",
          "height": 429
        },
        "id": "EW93ulm2DOcT",
        "outputId": "0e5d63c2-9cf2-4094-c629-0bf0fe948cd9"
      },
      "execution_count": null,
      "outputs": [
        {
          "output_type": "execute_result",
          "data": {
            "text/plain": [
              "Country\n",
              "United Kingdom    6485\n",
              "France             179\n",
              "Germany            177\n",
              "EIRE               138\n",
              "Spain               49\n",
              "Netherlands         44\n",
              "Belgium             35\n",
              "Switzerland         31\n",
              "Portugal            27\n",
              "Norway              24\n",
              "Name: count, dtype: int64"
            ],
            "text/html": [
              "<div>\n",
              "<style scoped>\n",
              "    .dataframe tbody tr th:only-of-type {\n",
              "        vertical-align: middle;\n",
              "    }\n",
              "\n",
              "    .dataframe tbody tr th {\n",
              "        vertical-align: top;\n",
              "    }\n",
              "\n",
              "    .dataframe thead th {\n",
              "        text-align: right;\n",
              "    }\n",
              "</style>\n",
              "<table border=\"1\" class=\"dataframe\">\n",
              "  <thead>\n",
              "    <tr style=\"text-align: right;\">\n",
              "      <th></th>\n",
              "      <th>count</th>\n",
              "    </tr>\n",
              "    <tr>\n",
              "      <th>Country</th>\n",
              "      <th></th>\n",
              "    </tr>\n",
              "  </thead>\n",
              "  <tbody>\n",
              "    <tr>\n",
              "      <th>United Kingdom</th>\n",
              "      <td>6485</td>\n",
              "    </tr>\n",
              "    <tr>\n",
              "      <th>France</th>\n",
              "      <td>179</td>\n",
              "    </tr>\n",
              "    <tr>\n",
              "      <th>Germany</th>\n",
              "      <td>177</td>\n",
              "    </tr>\n",
              "    <tr>\n",
              "      <th>EIRE</th>\n",
              "      <td>138</td>\n",
              "    </tr>\n",
              "    <tr>\n",
              "      <th>Spain</th>\n",
              "      <td>49</td>\n",
              "    </tr>\n",
              "    <tr>\n",
              "      <th>Netherlands</th>\n",
              "      <td>44</td>\n",
              "    </tr>\n",
              "    <tr>\n",
              "      <th>Belgium</th>\n",
              "      <td>35</td>\n",
              "    </tr>\n",
              "    <tr>\n",
              "      <th>Switzerland</th>\n",
              "      <td>31</td>\n",
              "    </tr>\n",
              "    <tr>\n",
              "      <th>Portugal</th>\n",
              "      <td>27</td>\n",
              "    </tr>\n",
              "    <tr>\n",
              "      <th>Norway</th>\n",
              "      <td>24</td>\n",
              "    </tr>\n",
              "  </tbody>\n",
              "</table>\n",
              "</div><br><label><b>dtype:</b> int64</label>"
            ]
          },
          "metadata": {},
          "execution_count": 9
        }
      ]
    },
    {
      "cell_type": "code",
      "source": [
        "##Produk terlaris\n",
        "top_products = df.groupby('Description')['Quantity'].sum().sort_values(ascending=False).head(10)\n",
        "top_products"
      ],
      "metadata": {
        "colab": {
          "base_uri": "https://localhost:8080/",
          "height": 429
        },
        "id": "IecVS61RDfNl",
        "outputId": "3e1994a9-c357-40d9-8088-07de734addc1"
      },
      "execution_count": null,
      "outputs": [
        {
          "output_type": "execute_result",
          "data": {
            "text/plain": [
              "Description\n",
              "WORLD WAR 2 GLIDERS ASSTD DESIGNS    3312\n",
              "GIN + TONIC DIET METAL SIGN          2107\n",
              "PACK OF 72 RETROSPOT CAKE CASES      1903\n",
              "JUMBO BAG RED RETROSPOT              1595\n",
              "ASSORTED COLOURS SILK FAN            1332\n",
              "JUMBO BAG STRAWBERRY                 1049\n",
              "RAIN PONCHO RETROSPOT                 944\n",
              "TRADITIONAL WOODEN SKIPPING ROPE      760\n",
              "FELTCRAFT DOLL MOLLY                  737\n",
              "POPCORN HOLDER                        616\n",
              "Name: Quantity, dtype: int64"
            ],
            "text/html": [
              "<div>\n",
              "<style scoped>\n",
              "    .dataframe tbody tr th:only-of-type {\n",
              "        vertical-align: middle;\n",
              "    }\n",
              "\n",
              "    .dataframe tbody tr th {\n",
              "        vertical-align: top;\n",
              "    }\n",
              "\n",
              "    .dataframe thead th {\n",
              "        text-align: right;\n",
              "    }\n",
              "</style>\n",
              "<table border=\"1\" class=\"dataframe\">\n",
              "  <thead>\n",
              "    <tr style=\"text-align: right;\">\n",
              "      <th></th>\n",
              "      <th>Quantity</th>\n",
              "    </tr>\n",
              "    <tr>\n",
              "      <th>Description</th>\n",
              "      <th></th>\n",
              "    </tr>\n",
              "  </thead>\n",
              "  <tbody>\n",
              "    <tr>\n",
              "      <th>WORLD WAR 2 GLIDERS ASSTD DESIGNS</th>\n",
              "      <td>3312</td>\n",
              "    </tr>\n",
              "    <tr>\n",
              "      <th>GIN + TONIC DIET METAL SIGN</th>\n",
              "      <td>2107</td>\n",
              "    </tr>\n",
              "    <tr>\n",
              "      <th>PACK OF 72 RETROSPOT CAKE CASES</th>\n",
              "      <td>1903</td>\n",
              "    </tr>\n",
              "    <tr>\n",
              "      <th>JUMBO BAG RED RETROSPOT</th>\n",
              "      <td>1595</td>\n",
              "    </tr>\n",
              "    <tr>\n",
              "      <th>ASSORTED COLOURS SILK FAN</th>\n",
              "      <td>1332</td>\n",
              "    </tr>\n",
              "    <tr>\n",
              "      <th>JUMBO BAG STRAWBERRY</th>\n",
              "      <td>1049</td>\n",
              "    </tr>\n",
              "    <tr>\n",
              "      <th>RAIN PONCHO RETROSPOT</th>\n",
              "      <td>944</td>\n",
              "    </tr>\n",
              "    <tr>\n",
              "      <th>TRADITIONAL WOODEN SKIPPING ROPE</th>\n",
              "      <td>760</td>\n",
              "    </tr>\n",
              "    <tr>\n",
              "      <th>FELTCRAFT DOLL MOLLY</th>\n",
              "      <td>737</td>\n",
              "    </tr>\n",
              "    <tr>\n",
              "      <th>POPCORN HOLDER</th>\n",
              "      <td>616</td>\n",
              "    </tr>\n",
              "  </tbody>\n",
              "</table>\n",
              "</div><br><label><b>dtype:</b> int64</label>"
            ]
          },
          "metadata": {},
          "execution_count": 11
        }
      ]
    },
    {
      "cell_type": "code",
      "source": [
        "# 10 Pelanggan dengan pembelian terbanyak\n",
        "# Hitung total pembelian per customer\n",
        "top_customers = df.groupby('CustomerID')['TotalPrice'].sum().sort_values(ascending=False).head(10)\n",
        "top_customers"
      ],
      "metadata": {
        "colab": {
          "base_uri": "https://localhost:8080/",
          "height": 429
        },
        "id": "SOmNkV7oDiHv",
        "outputId": "03323386-e324-458c-ebe4-05cac6cc4996"
      },
      "execution_count": null,
      "outputs": [
        {
          "output_type": "execute_result",
          "data": {
            "text/plain": [
              "CustomerID\n",
              "14646.0    4887.33\n",
              "15749.0    3380.00\n",
              "14156.0    2976.13\n",
              "14911.0    2736.38\n",
              "15769.0    2433.88\n",
              "17450.0    2369.72\n",
              "18102.0    2282.51\n",
              "15838.0    1790.00\n",
              "16029.0    1760.04\n",
              "14680.0    1601.64\n",
              "Name: TotalPrice, dtype: float64"
            ],
            "text/html": [
              "<div>\n",
              "<style scoped>\n",
              "    .dataframe tbody tr th:only-of-type {\n",
              "        vertical-align: middle;\n",
              "    }\n",
              "\n",
              "    .dataframe tbody tr th {\n",
              "        vertical-align: top;\n",
              "    }\n",
              "\n",
              "    .dataframe thead th {\n",
              "        text-align: right;\n",
              "    }\n",
              "</style>\n",
              "<table border=\"1\" class=\"dataframe\">\n",
              "  <thead>\n",
              "    <tr style=\"text-align: right;\">\n",
              "      <th></th>\n",
              "      <th>TotalPrice</th>\n",
              "    </tr>\n",
              "    <tr>\n",
              "      <th>CustomerID</th>\n",
              "      <th></th>\n",
              "    </tr>\n",
              "  </thead>\n",
              "  <tbody>\n",
              "    <tr>\n",
              "      <th>14646.0</th>\n",
              "      <td>4887.33</td>\n",
              "    </tr>\n",
              "    <tr>\n",
              "      <th>15749.0</th>\n",
              "      <td>3380.00</td>\n",
              "    </tr>\n",
              "    <tr>\n",
              "      <th>14156.0</th>\n",
              "      <td>2976.13</td>\n",
              "    </tr>\n",
              "    <tr>\n",
              "      <th>14911.0</th>\n",
              "      <td>2736.38</td>\n",
              "    </tr>\n",
              "    <tr>\n",
              "      <th>15769.0</th>\n",
              "      <td>2433.88</td>\n",
              "    </tr>\n",
              "    <tr>\n",
              "      <th>17450.0</th>\n",
              "      <td>2369.72</td>\n",
              "    </tr>\n",
              "    <tr>\n",
              "      <th>18102.0</th>\n",
              "      <td>2282.51</td>\n",
              "    </tr>\n",
              "    <tr>\n",
              "      <th>15838.0</th>\n",
              "      <td>1790.00</td>\n",
              "    </tr>\n",
              "    <tr>\n",
              "      <th>16029.0</th>\n",
              "      <td>1760.04</td>\n",
              "    </tr>\n",
              "    <tr>\n",
              "      <th>14680.0</th>\n",
              "      <td>1601.64</td>\n",
              "    </tr>\n",
              "  </tbody>\n",
              "</table>\n",
              "</div><br><label><b>dtype:</b> float64</label>"
            ]
          },
          "metadata": {},
          "execution_count": 12
        }
      ]
    },
    {
      "cell_type": "code",
      "source": [
        "# Hitung rata-rata\n",
        "avg_top_customers = top_customers.mean()\n",
        "\n",
        "avg_top_customers"
      ],
      "metadata": {
        "colab": {
          "base_uri": "https://localhost:8080/"
        },
        "id": "WM6XOtNtGTOd",
        "outputId": "e09276f5-9c11-4416-a95d-8ac8f26c8d52"
      },
      "execution_count": null,
      "outputs": [
        {
          "output_type": "execute_result",
          "data": {
            "text/plain": [
              "np.float64(2621.763)"
            ]
          },
          "metadata": {},
          "execution_count": 17
        }
      ]
    },
    {
      "cell_type": "code",
      "source": [
        "#Analisis Waktu\n",
        "# Ekstrak jam & hari\n",
        "df['Hour'] = df['InvoiceDate'].dt.hour\n",
        "df['DayOfWeek'] = df['InvoiceDate'].dt.day_name()\n",
        "\n",
        "# Jam tersibuk\n",
        "print(df.groupby('Hour')['InvoiceNo'].count())\n",
        "\n",
        "# Hari tersibuk\n",
        "print(df.groupby('DayOfWeek')['InvoiceNo'].count())\n"
      ],
      "metadata": {
        "colab": {
          "base_uri": "https://localhost:8080/"
        },
        "id": "_BwmBPBqDzfW",
        "outputId": "b02da61d-87e5-452d-ff44-57dbf65c0cc6"
      },
      "execution_count": null,
      "outputs": [
        {
          "output_type": "stream",
          "name": "stdout",
          "text": [
            "Hour\n",
            "7       10\n",
            "8      163\n",
            "9      403\n",
            "10     708\n",
            "11     901\n",
            "12    1309\n",
            "13    1196\n",
            "14     941\n",
            "15     829\n",
            "16     457\n",
            "17     251\n",
            "18      69\n",
            "19      69\n",
            "20      17\n",
            "Name: InvoiceNo, dtype: int64\n",
            "DayOfWeek\n",
            "Friday        991\n",
            "Monday       1206\n",
            "Sunday       1166\n",
            "Thursday     1504\n",
            "Tuesday      1183\n",
            "Wednesday    1273\n",
            "Name: InvoiceNo, dtype: int64\n"
          ]
        }
      ]
    },
    {
      "cell_type": "code",
      "source": [
        "import matplotlib.pyplot as plt\n",
        "\n",
        "# Top produk\n",
        "top_products.plot(kind='bar', figsize=(10,5), title=\"Top 10 Produk Terlaris\")\n",
        "plt.show()\n",
        "\n",
        "# Distribusi jam transaksi\n",
        "df.groupby('Hour')['InvoiceNo'].count().plot(kind='bar', figsize=(10,5), title=\"Distribusi Transaksi per Jam\")\n",
        "plt.show()"
      ],
      "metadata": {
        "colab": {
          "base_uri": "https://localhost:8080/",
          "height": 1000
        },
        "id": "XEqW19_RD8Go",
        "outputId": "3274d83c-212c-4a42-e50b-09a2c5de267e"
      },
      "execution_count": null,
      "outputs": [
        {
          "output_type": "display_data",
          "data": {
            "text/plain": [
              "<Figure size 1000x500 with 1 Axes>"
            ],
            "image/png": "[encoded data removed]"
          },
          "metadata": {}
        },
        {
          "output_type": "display_data",
          "data": {
            "text/plain": [
              "<Figure size 1000x500 with 1 Axes>"
            ],
            "image/png": "[encoded data removed]"
          },
          "metadata": {}
        }
      ]
    },
    {
      "cell_type": "markdown",
      "source": [
        "## 7. Insight & Kesimpulan\n",
        "Mayoritas transaksi berasal dari United Kingdom\n",
        "\n",
        "* Produk WORLD WAR 2 GLIDERS ASSTD DESIGNS menjadi yang paling laris\n",
        "\n",
        "* Puncak transaksi terjadi pada jam 12 s.d jam 13\n",
        "\n",
        "* Hari tersibuk adalah Hari Thursday ( Kamis )\n",
        "\n",
        "* Rata-rata nilai pembelian pelanggan top mencapai 2,621.76 GBP\n",
        "\n",
        "### Rekomendasi Bisnis:\n",
        "\n",
        "* Optimasi pemasaran pada jam 12 – 13 dan hari Kamis untuk memaksimalkan penjualan.\n",
        "\n",
        "* Fokuskan promosi pada produk WORLD WAR 2 GLIDERS ASSTD DESIGNS karena tingkat penjualannya tertinggi.\n",
        "\n",
        "* Buat program loyalitas untuk pelanggan bernilai tinggi (pembelian > £2,500).\n",
        "\n",
        "* Analisis penyebab retur untuk mengurangi potensi kerugian dan meningkatkan kepuasan pelanggan."
      ],
      "metadata": {
        "id": "6ZnIyfEOFKiB"
      }
    }
  ]
}